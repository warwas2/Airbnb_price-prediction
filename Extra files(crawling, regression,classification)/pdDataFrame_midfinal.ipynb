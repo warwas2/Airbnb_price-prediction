{
 "cells": [
  {
   "cell_type": "code",
   "execution_count": 6,
   "metadata": {
    "scrolled": true
   },
   "outputs": [
    {
     "name": "stdout",
     "output_type": "stream",
     "text": [
      "         출석         과제       기말시험       중간시험         성적\n",
      "0  7.804130  18.291522  14.148370  23.560978  63.805000\n",
      "1  8.000000  19.370000  13.650000  24.500000  66.335000\n",
      "2  0.350982   2.770496   7.406375   7.764777  14.520833\n"
     ]
    }
   ],
   "source": [
    "\n",
    "import pandas as pd\n",
    "xlfile='/Users\\jaewon\\Desktop\\dbscore.xlsx'\n",
    "df=pd.read_excel(xlfile)\n",
    "a=df.loc[:,['출석','과제','기말시험','중간시험','성적']]\n",
    "\n",
    "a['성적']=0\n",
    "for i in a.columns.values[0:4]:\n",
    "    a['성적']+=df[i] #출석, 과제, 기말, 중간을 더해서 성적에 저장\n",
    "    \n",
    "for i in a.columns.values:\n",
    "    a.loc[0,i]=a[i].mean()\n",
    "    a.loc[1,i]=a[i].median()\n",
    "    a.loc[2,i]=a[i].std()\n",
    "\n",
    "print(a[0:3])\n",
    "\n",
    "\n",
    "\n"
   ]
  },
  {
   "cell_type": "code",
   "execution_count": null,
   "metadata": {},
   "outputs": [],
   "source": []
  },
  {
   "cell_type": "code",
   "execution_count": null,
   "metadata": {},
   "outputs": [],
   "source": []
  }
 ],
 "metadata": {
  "kernelspec": {
   "display_name": "Python 3",
   "language": "python",
   "name": "python3"
  },
  "language_info": {
   "codemirror_mode": {
    "name": "ipython",
    "version": 3
   },
   "file_extension": ".py",
   "mimetype": "text/x-python",
   "name": "python",
   "nbconvert_exporter": "python",
   "pygments_lexer": "ipython3",
   "version": "3.7.3"
  }
 },
 "nbformat": 4,
 "nbformat_minor": 2
}
