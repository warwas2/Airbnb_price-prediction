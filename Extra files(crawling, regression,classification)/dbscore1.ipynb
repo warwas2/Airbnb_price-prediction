{
 "cells": [
  {
   "cell_type": "code",
   "execution_count": 25,
   "metadata": {
    "scrolled": true
   },
   "outputs": [
    {
     "data": {
      "text/html": [
       "<div>\n",
       "<style scoped>\n",
       "    .dataframe tbody tr th:only-of-type {\n",
       "        vertical-align: middle;\n",
       "    }\n",
       "\n",
       "    .dataframe tbody tr th {\n",
       "        vertical-align: top;\n",
       "    }\n",
       "\n",
       "    .dataframe thead th {\n",
       "        text-align: right;\n",
       "    }\n",
       "</style>\n",
       "<table border=\"1\" class=\"dataframe\">\n",
       "  <thead>\n",
       "    <tr style=\"text-align: right;\">\n",
       "      <th></th>\n",
       "      <th>출석</th>\n",
       "      <th>과제</th>\n",
       "      <th>기말시험</th>\n",
       "      <th>중간시험</th>\n",
       "      <th>성적</th>\n",
       "    </tr>\n",
       "  </thead>\n",
       "  <tbody>\n",
       "    <tr>\n",
       "      <th>0</th>\n",
       "      <td>7.804130</td>\n",
       "      <td>18.291522</td>\n",
       "      <td>14.148370</td>\n",
       "      <td>23.560978</td>\n",
       "      <td>63.805000</td>\n",
       "    </tr>\n",
       "    <tr>\n",
       "      <th>1</th>\n",
       "      <td>8.000000</td>\n",
       "      <td>19.370000</td>\n",
       "      <td>13.650000</td>\n",
       "      <td>24.500000</td>\n",
       "      <td>67.375000</td>\n",
       "    </tr>\n",
       "    <tr>\n",
       "      <th>2</th>\n",
       "      <td>0.350573</td>\n",
       "      <td>2.776342</td>\n",
       "      <td>7.782639</td>\n",
       "      <td>7.937138</td>\n",
       "      <td>15.122755</td>\n",
       "    </tr>\n",
       "  </tbody>\n",
       "</table>\n",
       "</div>"
      ],
      "text/plain": [
       "         출석         과제       기말시험       중간시험         성적\n",
       "0  7.804130  18.291522  14.148370  23.560978  63.805000\n",
       "1  8.000000  19.370000  13.650000  24.500000  67.375000\n",
       "2  0.350573   2.776342   7.782639   7.937138  15.122755"
      ]
     },
     "execution_count": 25,
     "metadata": {},
     "output_type": "execute_result"
    }
   ],
   "source": [
    "\n",
    "import pandas as pd\n",
    "xlfile='/Users\\jaewon\\Desktop\\dbscore.xlsx'\n",
    "df=pd.read_excel(xlfile)\n",
    "a=df.loc[:,['출석','과제','기말시험','중간시험','성적']]\n",
    "b=df.loc[0:3,['출석','과제','기말시험','중간시험','성적']]\n",
    "\n",
    "a['성적']=0\n",
    "for i in a.columns.values[0:4]:\n",
    "    a['성적']+=df[i] #출석, 과제, 기말, 중간을 더해서 성적에 저장\n",
    "\n",
    "for i in a.columns.values:\n",
    "    b.loc[0,i]=a[i].mean()\n",
    "    b.loc[1,i]=a[i].median()\n",
    "    b.loc[2,i]=a[i].std()\n",
    "\n",
    "b[0:3]\n",
    "\n",
    "\n",
    "\n"
   ]
  },
  {
   "cell_type": "code",
   "execution_count": null,
   "metadata": {},
   "outputs": [],
   "source": []
  }
 ],
 "metadata": {
  "kernelspec": {
   "display_name": "Python 3",
   "language": "python",
   "name": "python3"
  },
  "language_info": {
   "codemirror_mode": {
    "name": "ipython",
    "version": 3
   },
   "file_extension": ".py",
   "mimetype": "text/x-python",
   "name": "python",
   "nbconvert_exporter": "python",
   "pygments_lexer": "ipython3",
   "version": "3.7.3"
  }
 },
 "nbformat": 4,
 "nbformat_minor": 2
}
