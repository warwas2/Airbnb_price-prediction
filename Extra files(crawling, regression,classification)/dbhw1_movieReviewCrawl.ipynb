{
 "cells": [
  {
   "cell_type": "code",
   "execution_count": 1,
   "metadata": {},
   "outputs": [
    {
     "data": {
      "text/plain": [
       "<sqlite3.Cursor at 0x25baec09f10>"
      ]
     },
     "execution_count": 1,
     "metadata": {},
     "output_type": "execute_result"
    }
   ],
   "source": [
    "import requests\n",
    "import sqlite3\n",
    "conn=sqlite3.connect('example3.db')\n",
    "cur=conn.cursor()\n",
    "cur.execute(\"CREATE TABLE test2(a test, b text, c text)\")\n"
   ]
  },
  {
   "cell_type": "code",
   "execution_count": 6,
   "metadata": {},
   "outputs": [],
   "source": [
    "import numpy as np\n",
    "import pandas as pd\n",
    "import requests\n",
    "import urllib\n",
    "from bs4 import BeautifulSoup\n",
    "\n",
    "params={'page':1}\n",
    "url='https://movie.naver.com/movie/point/af/list.nhn'\n",
    "res=requests.get(url,params=params)"
   ]
  },
  {
   "cell_type": "code",
   "execution_count": 7,
   "metadata": {},
   "outputs": [
    {
     "name": "stderr",
     "output_type": "stream",
     "text": [
      "C:\\Users\\jaewon\\Anaconda3\\lib\\site-packages\\bs4\\__init__.py:177: UserWarning: You provided Unicode markup but also provided a value for from_encoding. Your from_encoding will be ignored.\n",
      "  warnings.warn(\"You provided Unicode markup but also provided a value for from_encoding. Your from_encoding will be ignored.\")\n"
     ]
    },
    {
     "data": {
      "text/html": [
       "<div>\n",
       "<style scoped>\n",
       "    .dataframe tbody tr th:only-of-type {\n",
       "        vertical-align: middle;\n",
       "    }\n",
       "\n",
       "    .dataframe tbody tr th {\n",
       "        vertical-align: top;\n",
       "    }\n",
       "\n",
       "    .dataframe thead th {\n",
       "        text-align: right;\n",
       "    }\n",
       "</style>\n",
       "<table border=\"1\" class=\"dataframe\">\n",
       "  <thead>\n",
       "    <tr style=\"text-align: right;\">\n",
       "      <th></th>\n",
       "      <th>번호</th>\n",
       "      <th>감상평</th>\n",
       "      <th>글쓴이·날짜</th>\n",
       "    </tr>\n",
       "  </thead>\n",
       "  <tbody>\n",
       "    <tr>\n",
       "      <th>0</th>\n",
       "      <td>16337763</td>\n",
       "      <td>82년생 김지영 메퇘지 벌레들이 사소한걸로 여혐이니 뭐니 개판치고 다닌 결과야 그리...</td>\n",
       "      <td>rngk****19.10.28</td>\n",
       "    </tr>\n",
       "    <tr>\n",
       "      <th>1</th>\n",
       "      <td>16337762</td>\n",
       "      <td>82년생 김지영 이딴걸왜보냐 수준떨어져 공유는 왜나온거지 이해가안돼네 그리고 80년...</td>\n",
       "      <td>rain****19.10.28</td>\n",
       "    </tr>\n",
       "    <tr>\n",
       "      <th>2</th>\n",
       "      <td>16337761</td>\n",
       "      <td>더 보이 난 주인공을 이해할수가 없다... 대체 뭐가 불만이라고 별것도 아닌걸로 죽...</td>\n",
       "      <td>tsol****19.10.28</td>\n",
       "    </tr>\n",
       "    <tr>\n",
       "      <th>3</th>\n",
       "      <td>16337760</td>\n",
       "      <td>82년생 김지영 여기 10점박은사람들은 그냥 인간관계에서 거르세요 신고</td>\n",
       "      <td>anjs****19.10.28</td>\n",
       "    </tr>\n",
       "    <tr>\n",
       "      <th>4</th>\n",
       "      <td>16337759</td>\n",
       "      <td>시크릿 슈퍼스타 음 뭐라 설명하기 힘든데 감동적이면서 재밌고 인도문화가 저정도였나 ...</td>\n",
       "      <td>ckde****19.10.28</td>\n",
       "    </tr>\n",
       "    <tr>\n",
       "      <th>5</th>\n",
       "      <td>16337757</td>\n",
       "      <td>82년생 김지영 엄마 생각이 나 많이 울었습니다..공유 정유미 배우님들의 연기덕분에...</td>\n",
       "      <td>love****19.10.28</td>\n",
       "    </tr>\n",
       "    <tr>\n",
       "      <th>6</th>\n",
       "      <td>16337755</td>\n",
       "      <td>82년생 김지영 신고</td>\n",
       "      <td>seon****19.10.28</td>\n",
       "    </tr>\n",
       "    <tr>\n",
       "      <th>7</th>\n",
       "      <td>16337753</td>\n",
       "      <td>82년생 김지영 28년생 김지영은 안타깝지만 82년생 김지영은 그냥 남녀평등 사회아...</td>\n",
       "      <td>xodn****19.10.28</td>\n",
       "    </tr>\n",
       "    <tr>\n",
       "      <th>8</th>\n",
       "      <td>16337754</td>\n",
       "      <td>82년생 김지영 아무리 논리적으로 말해도 논리적으로 받아들일줄 모르는 사람들 상대로...</td>\n",
       "      <td>uri6****19.10.28</td>\n",
       "    </tr>\n",
       "    <tr>\n",
       "      <th>9</th>\n",
       "      <td>16337752</td>\n",
       "      <td>82년생 김지영 보는데 다들 훌쩍훌쩍 저도 같이 울었읍니다 신고</td>\n",
       "      <td>ur10****19.10.28</td>\n",
       "    </tr>\n",
       "  </tbody>\n",
       "</table>\n",
       "</div>"
      ],
      "text/plain": [
       "         번호                                                감상평  \\\n",
       "0  16337763  82년생 김지영 메퇘지 벌레들이 사소한걸로 여혐이니 뭐니 개판치고 다닌 결과야 그리...   \n",
       "1  16337762  82년생 김지영 이딴걸왜보냐 수준떨어져 공유는 왜나온거지 이해가안돼네 그리고 80년...   \n",
       "2  16337761  더 보이 난 주인공을 이해할수가 없다... 대체 뭐가 불만이라고 별것도 아닌걸로 죽...   \n",
       "3  16337760            82년생 김지영 여기 10점박은사람들은 그냥 인간관계에서 거르세요 신고   \n",
       "4  16337759  시크릿 슈퍼스타 음 뭐라 설명하기 힘든데 감동적이면서 재밌고 인도문화가 저정도였나 ...   \n",
       "5  16337757  82년생 김지영 엄마 생각이 나 많이 울었습니다..공유 정유미 배우님들의 연기덕분에...   \n",
       "6  16337755                                        82년생 김지영 신고   \n",
       "7  16337753  82년생 김지영 28년생 김지영은 안타깝지만 82년생 김지영은 그냥 남녀평등 사회아...   \n",
       "8  16337754  82년생 김지영 아무리 논리적으로 말해도 논리적으로 받아들일줄 모르는 사람들 상대로...   \n",
       "9  16337752                82년생 김지영 보는데 다들 훌쩍훌쩍 저도 같이 울었읍니다 신고   \n",
       "\n",
       "             글쓴이·날짜  \n",
       "0  rngk****19.10.28  \n",
       "1  rain****19.10.28  \n",
       "2  tsol****19.10.28  \n",
       "3  anjs****19.10.28  \n",
       "4  ckde****19.10.28  \n",
       "5  love****19.10.28  \n",
       "6  seon****19.10.28  \n",
       "7  xodn****19.10.28  \n",
       "8  uri6****19.10.28  \n",
       "9  ur10****19.10.28  "
      ]
     },
     "execution_count": 7,
     "metadata": {},
     "output_type": "execute_result"
    }
   ],
   "source": [
    "navigator=BeautifulSoup(res.text,'html.parser',from_encoding='utf-8')\n",
    "table=navigator.find('table',class_='list_netizen')\n",
    "df_table=pd.read_html(str(table),header=0)\n",
    "df_table[0]"
   ]
  },
  {
   "cell_type": "code",
   "execution_count": 8,
   "metadata": {
    "scrolled": true
   },
   "outputs": [
    {
     "data": {
      "text/plain": [
       "[{'번호': 16337763,\n",
       "  '영화': '82년생 김지영',\n",
       "  '감상평': '메퇘지 벌레들이 사소한걸로 여혐이니 뭐니 개판치고 다닌 결과야 그리고 제발 피해자 코스프레 그만해라 혜화역서 촛불들고 쿵쾅거릴줄알지 '},\n",
       " {'번호': 16337762,\n",
       "  '영화': '82년생 김지영',\n",
       "  '감상평': '이딴걸왜보냐 수준떨어져 공유는 왜나온거지 이해가안돼네 그리고 80년대생 여자들이 된장녀 유행시켰잖아 '},\n",
       " {'번호': 16337761,\n",
       "  '영화': '더 보이',\n",
       "  '감상평': '난 주인공을 이해할수가 없다... 대체 뭐가 불만이라고 별것도 아닌걸로 죽이고 다니는지..갑자기 별이유없이 각성하고 죄없는사람들 잔인하게 죽이는것밖에 없음..주인공 완전 패륜아임 '},\n",
       " {'번호': 16337760, '영화': '82년생 김지영', '감상평': '여기 10점박은사람들은 그냥 인간관계에서 거르세요 '},\n",
       " {'번호': 16337759,\n",
       "  '영화': '시크릿 슈퍼스타',\n",
       "  '감상평': '음 뭐라 설명하기 힘든데 감동적이면서 재밌고 인도문화가 저정도였나 싶기도하고 82년생김지영보고 보는거라서 그런지몰라도 이건 ㄹㅇ 심도있게 잘다룬듯 감정팔이영화가 아니라 진짜 감동+꿀잼 평점 10점 준거 개오래간만이네유 '},\n",
       " {'번호': 16337757,\n",
       "  '영화': '82년생 김지영',\n",
       "  '감상평': '엄마 생각이 나 많이 울었습니다..공유 정유미 배우님들의 연기덕분에 온전히 집중할 수 있었습니다 결혼도 하지 않으신 배우분들이신데 역시 배우구나 했습니다 '},\n",
       " {'번호': 16337755, '영화': '82년생 김지영', '감상평': ''},\n",
       " {'번호': 16337753,\n",
       "  '영화': '82년생 김지영',\n",
       "  '감상평': '28년생 김지영은 안타깝지만 82년생 김지영은 그냥 남녀평등 사회아니냐.. 오히려 군대도 안갔다오는데 '},\n",
       " {'번호': 16337754,\n",
       "  '영화': '82년생 김지영',\n",
       "  '감상평': '아무리 논리적으로 말해도 논리적으로 받아들일줄 모르는 사람들 상대로 감정낭비 하기도 지겹고 이런 영화가 메가플렉스에서 상영된다는 것 자체에 큰 의미가 있다고 생각합니다. 응원해요 '},\n",
       " {'번호': 16337752, '영화': '82년생 김지영', '감상평': '보는데 다들 훌쩍훌쩍 저도 같이 울었읍니다 '}]"
      ]
     },
     "execution_count": 8,
     "metadata": {},
     "output_type": "execute_result"
    }
   ],
   "source": [
    "\n",
    "import dateutil\n",
    "list_records=[]\n",
    "for i, r in enumerate(table.find_all('tr')):\n",
    "    for j,c in enumerate(r.find_all('td')):\n",
    "        if j==0:\n",
    "            record={\"번호\":int(c.text.strip())}\n",
    "        elif j==1:\n",
    "            record.update({\"영화\":str(c.find('a').text.strip())})\n",
    "            record.update({\"감상평\":str(c.text.strip().split('\\t')[0].split('\\n')[1])})\n",
    "           \n",
    "    try:\n",
    "        list_records.append(record)\n",
    "    except:\n",
    "        pass\n",
    "list_records\n",
    "\n"
   ]
  },
  {
   "cell_type": "code",
   "execution_count": 9,
   "metadata": {},
   "outputs": [
    {
     "data": {
      "text/plain": [
       "<sqlite3.Cursor at 0x25baec09f10>"
      ]
     },
     "execution_count": 9,
     "metadata": {},
     "output_type": "execute_result"
    }
   ],
   "source": [
    "values=[('2222/22/22','s',2),('1111/11/11','sss',22)] \n",
    "sql_query=\"INSERT INTO test2 VALUES(?,?,?)\"\n",
    "cur.executemany(sql_query,values)"
   ]
  },
  {
   "cell_type": "code",
   "execution_count": 3,
   "metadata": {},
   "outputs": [],
   "source": [
    "conn.commit()"
   ]
  },
  {
   "cell_type": "code",
   "execution_count": 12,
   "metadata": {
    "scrolled": false
   },
   "outputs": [
    {
     "ename": "ProgrammingError",
     "evalue": "Binding 1 has no name, but you supplied a dictionary (which has only names).",
     "output_type": "error",
     "traceback": [
      "\u001b[1;31m---------------------------------------------------------------------------\u001b[0m",
      "\u001b[1;31mProgrammingError\u001b[0m                          Traceback (most recent call last)",
      "\u001b[1;32m<ipython-input-12-be0d535c9a04>\u001b[0m in \u001b[0;36m<module>\u001b[1;34m\u001b[0m\n\u001b[0;32m      1\u001b[0m \u001b[0mcur\u001b[0m\u001b[1;33m.\u001b[0m\u001b[0mexecute\u001b[0m\u001b[1;33m(\u001b[0m\u001b[1;34m\"CREATE TABLE test3(number1 text, movie1 text, content1 text)\"\u001b[0m\u001b[1;33m)\u001b[0m\u001b[1;33m\u001b[0m\u001b[1;33m\u001b[0m\u001b[0m\n\u001b[0;32m      2\u001b[0m \u001b[0msql_query\u001b[0m\u001b[1;33m=\u001b[0m\u001b[1;34m\"INSERT INTO test3 VALUES(?,?,?)\"\u001b[0m\u001b[1;33m\u001b[0m\u001b[1;33m\u001b[0m\u001b[0m\n\u001b[1;32m----> 3\u001b[1;33m \u001b[0mcur\u001b[0m\u001b[1;33m.\u001b[0m\u001b[0mexecutemany\u001b[0m\u001b[1;33m(\u001b[0m\u001b[0msql_query\u001b[0m\u001b[1;33m,\u001b[0m\u001b[0mlist_records\u001b[0m\u001b[1;33m)\u001b[0m\u001b[1;33m\u001b[0m\u001b[1;33m\u001b[0m\u001b[0m\n\u001b[0m",
      "\u001b[1;31mProgrammingError\u001b[0m: Binding 1 has no name, but you supplied a dictionary (which has only names)."
     ]
    }
   ],
   "source": [
    "cur.execute(\"CREATE TABLE test3(number1 text, movie1 text, content1 text)\")\n",
    "sql_query=\"INSERT INTO test3 VALUES(?,?,?)\"\n",
    "cur.executemany(sql_query,list_records)"
   ]
  },
  {
   "cell_type": "code",
   "execution_count": 23,
   "metadata": {},
   "outputs": [],
   "source": [
    "conn.commit()"
   ]
  },
  {
   "cell_type": "code",
   "execution_count": 22,
   "metadata": {},
   "outputs": [
    {
     "data": {
      "text/plain": [
       "<sqlite3.Cursor at 0x25baec09f10>"
      ]
     },
     "execution_count": 22,
     "metadata": {},
     "output_type": "execute_result"
    }
   ],
   "source": [
    "ts=[]\n",
    "for i, r in enumerate(table.find_all('tr')):\n",
    "    for j,c in enumerate(r.find_all('td')):\n",
    "        if j==0:\n",
    "            record1=(c.text.strip())\n",
    "        elif j==1:\n",
    "            record2=str(c.find('a').text.strip())\n",
    "            record3=str(c.text.strip().split('\\t')[0].split('\\n')[1])\n",
    "           \n",
    "    try:\n",
    "        ts.append((record1,record2,record3))\n",
    "        #cur.execute(\"INSERT INTO test1 (number, movie, content) VALUES(record1,record2,record3)\")\n",
    "    except:\n",
    "        pass\n",
    "ts\n",
    "\n",
    "#cur.execute(\"CREATE TABLE test3(number1 text, movie1 text, content1 text)\")\n",
    "sql_query=\"INSERT INTO test3 VALUES(?,?,?)\"\n",
    "cur.executemany(sql_query,ts)\n"
   ]
  },
  {
   "cell_type": "code",
   "execution_count": null,
   "metadata": {},
   "outputs": [],
   "source": []
  }
 ],
 "metadata": {
  "kernelspec": {
   "display_name": "Python 3",
   "language": "python",
   "name": "python3"
  },
  "language_info": {
   "codemirror_mode": {
    "name": "ipython",
    "version": 3
   },
   "file_extension": ".py",
   "mimetype": "text/x-python",
   "name": "python",
   "nbconvert_exporter": "python",
   "pygments_lexer": "ipython3",
   "version": "3.7.3"
  }
 },
 "nbformat": 4,
 "nbformat_minor": 2
}
