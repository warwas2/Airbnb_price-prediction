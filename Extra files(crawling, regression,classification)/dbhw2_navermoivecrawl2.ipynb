{
 "cells": [
  {
   "cell_type": "code",
   "execution_count": 5,
   "metadata": {},
   "outputs": [
    {
     "name": "stdout",
     "output_type": "stream",
     "text": [
      "<!doctype html>\n",
      "<html>\n",
      "<head>\n",
      "    <meta charset=\"utf-8\">\n",
      "    <meta http-equiv=\"X-UA-Compatible\" content=\"chrome=1\">\n",
      "\n",
      "    <meta property=\"og:title\" content=\"코난아카데미\" />\n",
      "    <meta property=\"og:description\" content=\"코난아카데미 데이터분석 기초\" />\n",
      "    <meta property=\"og:type\" content=\"website\" />\n",
      "    <meta property\n"
     ]
    }
   ],
   "source": [
    "import urllib.request as rq\n",
    "url='http://konanacademy.github.io/da/'\n",
    "\n",
    "#data=urllib.request.urlopen(url)\n",
    "\n",
    "req=rq.Request(url)\n",
    "req.add_header('User-agent','Mozila/5.0 (compatible; MSIE 5.5; Window NT)')\n",
    "data=rq.urlopen(req)\n",
    "text=data.read().decode(\"utf-8\")\n",
    "print(text[:300])"
   ]
  },
  {
   "cell_type": "code",
   "execution_count": 6,
   "metadata": {},
   "outputs": [
    {
     "name": "stdout",
     "output_type": "stream",
     "text": [
      "<!doctype html>\n",
      "<html>\n",
      "<head>\n",
      "    <meta charset=\"utf-8\">\n",
      "    <meta http-equiv=\"X-UA-Compatible\" content=\"chrome=1\">\n",
      "\n",
      "    <meta property=\"og:title\" content=\"코난아카데미\" />\n",
      "    <meta property=\"og:description\" content=\"코난아카데미 데이터분석 기초\" />\n",
      "    <meta property=\"og:type\" content=\"website\" />\n",
      "    <meta property=\"og:url\" content=\"http://konanacademy.github.io/da\" />\n",
      "    <title>데이터분석 기초</title>\n",
      "\n",
      "    <link rel=\"stylesheet\" href=\"stylesheets/styles.css\">\n",
      "    <link rel=\"stylesheet\" href=\"stylesheets/pygment_trac\n"
     ]
    }
   ],
   "source": [
    "import requests\n",
    "url='http://konanacademy.github.io/da/'\n",
    "req=requests.get(url)\n",
    "print(req.content.decode('utf-8')[:500])"
   ]
  },
  {
   "cell_type": "code",
   "execution_count": 10,
   "metadata": {},
   "outputs": [],
   "source": [
    "import sqlite3\n",
    "\n"
   ]
  },
  {
   "cell_type": "code",
   "execution_count": 102,
   "metadata": {},
   "outputs": [],
   "source": [
    "conn=sqlite3.connect('dama/example.db')\n",
    "#cur=conn.cursor()\n",
    "#cur.execute(\"CREATE TABLE test1(Date text, Name text, Age int)\")\n",
    "#cur.execute(\"INSERT INTO test1 VALUES('20191027','hiiiii',11)\")\n"
   ]
  },
  {
   "cell_type": "code",
   "execution_count": 18,
   "metadata": {},
   "outputs": [
    {
     "ename": "OperationalError",
     "evalue": "table test1 already exists",
     "output_type": "error",
     "traceback": [
      "\u001b[1;31m---------------------------------------------------------------------------\u001b[0m",
      "\u001b[1;31mOperationalError\u001b[0m                          Traceback (most recent call last)",
      "\u001b[1;32m<ipython-input-18-35583f6fbd60>\u001b[0m in \u001b[0;36m<module>\u001b[1;34m\u001b[0m\n\u001b[0;32m      1\u001b[0m \u001b[0mcur\u001b[0m\u001b[1;33m=\u001b[0m\u001b[0mconn\u001b[0m\u001b[1;33m.\u001b[0m\u001b[0mcursor\u001b[0m\u001b[1;33m(\u001b[0m\u001b[1;33m)\u001b[0m\u001b[1;33m\u001b[0m\u001b[1;33m\u001b[0m\u001b[0m\n\u001b[1;32m----> 2\u001b[1;33m \u001b[0mcur\u001b[0m\u001b[1;33m.\u001b[0m\u001b[0mexecute\u001b[0m\u001b[1;33m(\u001b[0m\u001b[1;34m\"CREATE TABLE test1(Date text, Name text, Age int)\"\u001b[0m\u001b[1;33m)\u001b[0m\u001b[1;33m\u001b[0m\u001b[1;33m\u001b[0m\u001b[0m\n\u001b[0m\u001b[0;32m      3\u001b[0m \u001b[0mcur\u001b[0m\u001b[1;33m.\u001b[0m\u001b[0mexecute\u001b[0m\u001b[1;33m(\u001b[0m\u001b[1;34m\"INSERT INTO test1 (Date, Name, Age) VALUES('20191027','hiiiii',11)\"\u001b[0m\u001b[1;33m)\u001b[0m\u001b[1;33m\u001b[0m\u001b[1;33m\u001b[0m\u001b[0m\n",
      "\u001b[1;31mOperationalError\u001b[0m: table test1 already exists"
     ]
    }
   ],
   "source": [
    "cur=conn.cursor()\n",
    "cur.execute(\"CREATE TABLE test1(Date text, Name text, Age int)\")\n",
    "cur.execute(\"INSERT INTO test1 (Date, Name, Age) VALUES('20191027','hiiiii',11)\")"
   ]
  },
  {
   "cell_type": "code",
   "execution_count": 20,
   "metadata": {},
   "outputs": [
    {
     "data": {
      "text/plain": [
       "<sqlite3.Cursor at 0x1ff65dd8f80>"
      ]
     },
     "execution_count": 20,
     "metadata": {},
     "output_type": "execute_result"
    }
   ],
   "source": [
    "values=[('2222/22/22','s',2),('1111/11/11','sss',22)] \n",
    "sql_query=\"INSERT INTO test1 VALUES(?,?,?)\"\n",
    "cur.executemany(sql_query,values)"
   ]
  },
  {
   "cell_type": "code",
   "execution_count": 104,
   "metadata": {},
   "outputs": [
    {
     "ename": "SyntaxError",
     "evalue": "invalid syntax (<ipython-input-104-f50fe049bb67>, line 1)",
     "output_type": "error",
     "traceback": [
      "\u001b[1;36m  File \u001b[1;32m\"<ipython-input-104-f50fe049bb67>\"\u001b[1;36m, line \u001b[1;32m1\u001b[0m\n\u001b[1;33m    delete from test1\u001b[0m\n\u001b[1;37m              ^\u001b[0m\n\u001b[1;31mSyntaxError\u001b[0m\u001b[1;31m:\u001b[0m invalid syntax\n"
     ]
    }
   ],
   "source": [
    "delete from test1\n",
    "\n",
    "#conn.commit()\n",
    "#conn.rollback()\n",
    "#conn.close()"
   ]
  },
  {
   "cell_type": "code",
   "execution_count": 27,
   "metadata": {},
   "outputs": [],
   "source": [
    "import numpy as np\n",
    "import pandas as pd\n",
    "import requests\n",
    "import urllib\n",
    "from bs4 import BeautifulSoup\n",
    "\n"
   ]
  },
  {
   "cell_type": "code",
   "execution_count": null,
   "metadata": {},
   "outputs": [],
   "source": [
    "params=urllib.parse.urlencode({\"page\":1})\n",
    "print(params)\n",
    "#url='https://movie.naver.com/movie/bi/mi/review.nhn?code=167613?&%s' % params\n",
    "url='https://movie.naver.com/movie/bi/mi/point.nhn?code=167613/html/body/div/div/div[5]'\n",
    "print(url)\n",
    "'''\n",
    "params=urllib.parse.urlencode({\"page\":1})\n",
    "print(params)\n",
    "#url='https://movie.naver.com/movie/bi/mi/review.nhn?code=167613?&%s' % params\n",
    "url='https://movie.naver.com/movie/bi/mi/point.nhn?code=167613/html/body/div/div/div[5]'\n",
    "print(url)'''"
   ]
  },
  {
   "cell_type": "code",
   "execution_count": 35,
   "metadata": {},
   "outputs": [],
   "source": [
    "params={'page':1}\n",
    "url='https://movie.naver.com/movie/point/af/list.nhn'\n",
    "res=requests.get(url,params=params)\n",
    "\n",
    "#index_response=requests.get(url)\n",
    "#print(index_response.content[1000:2000])"
   ]
  },
  {
   "cell_type": "code",
   "execution_count": 38,
   "metadata": {},
   "outputs": [
    {
     "name": "stdout",
     "output_type": "stream",
     "text": [
      "b'\\r\\n\\r\\n\\r\\n\\r\\n\\r\\n\\r\\n\\r\\n\\r\\n\\r\\n\\r\\n\\t\\r\\n\\t\\r\\n\\t\\r\\n\\t\\r\\n\\t\\r\\n\\r\\n\\t\\r\\n\\t\\r\\n\\r\\n\\r\\n\\t\\r\\n\\t\\r\\n\\t\\r\\n\\t\\r\\n\\t\\r\\n\\t\\r\\n\\t\\r\\n\\t\\r\\n\\t\\r\\n\\t\\r\\n\\t\\r\\n\\t\\r\\n\\r\\n\\t\\r\\n\\t\\r\\n\\t\\r\\n\\t\\r\\n\\t\\r\\n\\r\\n\\t\\r\\n\\t\\r\\n\\t\\r\\n\\r\\n\\t\\r\\n\\t\\r\\n\\t\\r\\n\\r\\n\\r\\n\\t\\r\\n\\t\\r\\n\\t\\r\\n\\t\\r\\n\\t\\t\\r\\n\\t\\t\\t\\r\\n\\t\\t\\t\\t\\r\\n\\t\\t\\t\\r\\n\\t\\t\\t\\r\\n\\t\\t\\t\\r\\n\\t\\t\\t\\r\\n\\t\\t\\r\\n\\t\\r\\n\\t\\r\\n\\t\\t\\r\\n\\t\\r\\n\\r\\n<!DOCTYPE html>\\r\\n<html lang=\"ko\">\\r\\n<head>\\r\\n<meta http-equiv=\"Content-Type\" content=\"text/html; charset=euc-kr\">\\r\\n<meta http-equiv=\"X-UA-Compatible\" content=\"IE=edge\">\\r\\n\\r\\n\\r\\n\\r\\n\\r\\n\\r\\n\\r\\n<meta property=\"me2:image\" content=\"http://imgmovie.naver.com/today/naverme/naverme_profile.jpg\"/>\\r\\n<meta property=\"me2:post_tag\" content=\"\\xb3\\xd7\\xc0\\xcc\\xb9\\xf6\\xbf\\xb5\\xc8\\xad \"/>\\r\\n<meta property=\"me2:category1\" content=\"\\xb3\\xd7\\xc0\\xcc\\xb9\\xf6\\xbf\\xb5\\xc8\\xad\"/>\\r\\n<meta property=\"me2:category2\" content=\"\"/>\\r\\n\\r\\n\\r\\n\\r\\n\\r\\n\\r\\n\\t\\r\\n\\t\\r\\n\\t\\r\\n\\t\\r\\n\\t\\t<meta property=\"og:title\" content=\"\\xc6\\xf2\\xc1\\xa1 : \\xb3\\xd7\\xc0\\xcc\\xb9\\xf6 \\xbf\\xb5\\xc8\\xad\"/>\\r\\n\\t\\t<meta property=\"og:description\" content=\"\\xb3\\xd7\\xc6\\xbc\\xc1\\xf0 \\xc6\\xf2\\xc1\\xa1\\xb0\\xfa \\xb8\\xae\\xba\\xe4 \\xc1\\xa4\\xba\\xb8 \\xc1\\xa6\\xb0\\xf8\"/>\\r\\n\\t\\r\\n\\t\\r\\n\\t\\r\\n\\r\\n\\r\\n<meta property=\"og:type\" content=\"article\"/>\\r\\n<meta property=\"og:url\" content=\"https://movie.naver.com/movie/point/af/list.nhn?page=1\"/>\\r\\n\\r\\n\\t\\r\\n\\t\\r\\n\\t\\t<meta property=\"og:image\" content=\"http://static.naver'\n"
     ]
    }
   ],
   "source": [
    "print(res.content[:1000])#.decode('euc-kr')\n"
   ]
  },
  {
   "cell_type": "code",
   "execution_count": 45,
   "metadata": {},
   "outputs": [
    {
     "data": {
      "text/html": [
       "<div>\n",
       "<style scoped>\n",
       "    .dataframe tbody tr th:only-of-type {\n",
       "        vertical-align: middle;\n",
       "    }\n",
       "\n",
       "    .dataframe tbody tr th {\n",
       "        vertical-align: top;\n",
       "    }\n",
       "\n",
       "    .dataframe thead th {\n",
       "        text-align: right;\n",
       "    }\n",
       "</style>\n",
       "<table border=\"1\" class=\"dataframe\">\n",
       "  <thead>\n",
       "    <tr style=\"text-align: right;\">\n",
       "      <th></th>\n",
       "      <th>번호</th>\n",
       "      <th>감상평</th>\n",
       "      <th>글쓴이·날짜</th>\n",
       "    </tr>\n",
       "  </thead>\n",
       "  <tbody>\n",
       "    <tr>\n",
       "      <th>0</th>\n",
       "      <td>16332460</td>\n",
       "      <td>82년생 김지영 괜히봤다 현실감 제로 여자가 살기얼마나 편한데 너무 거지같이 꾸며놨...</td>\n",
       "      <td>krfr****19.10.27</td>\n",
       "    </tr>\n",
       "    <tr>\n",
       "      <th>1</th>\n",
       "      <td>16332459</td>\n",
       "      <td>로드킬 착하게살라는 교훈말고는... 신고</td>\n",
       "      <td>danp****19.10.27</td>\n",
       "    </tr>\n",
       "    <tr>\n",
       "      <th>2</th>\n",
       "      <td>16332458</td>\n",
       "      <td>82년생 김지영 너무 잘봤어요 정유미 배우님 연기 최고에요 신고</td>\n",
       "      <td>wjda****19.10.27</td>\n",
       "    </tr>\n",
       "    <tr>\n",
       "      <th>3</th>\n",
       "      <td>16332457</td>\n",
       "      <td>82년생 김지영 정말 많이 울었어요. 엄마 생각도 많이 났고, 저의 역할과 위치에 ...</td>\n",
       "      <td>yj_9****19.10.27</td>\n",
       "    </tr>\n",
       "    <tr>\n",
       "      <th>4</th>\n",
       "      <td>16332456</td>\n",
       "      <td>뺑반 조정석 악역 생각 보다 어울리고 류준열 연기 잘하고 액션과 카레이싱신 멋지고 ...</td>\n",
       "      <td>zksp****19.10.27</td>\n",
       "    </tr>\n",
       "    <tr>\n",
       "      <th>5</th>\n",
       "      <td>16332455</td>\n",
       "      <td>82년생 김지영 주변에 직장동료들 어린이집에 애맡기고 잘만출근하던데? 신고</td>\n",
       "      <td>lkgo****19.10.27</td>\n",
       "    </tr>\n",
       "    <tr>\n",
       "      <th>6</th>\n",
       "      <td>16332454</td>\n",
       "      <td>82년생 김지영 지영이가 여자도 군대를갔어야 이런 이야기가 전개안됐을텐데.... 군...</td>\n",
       "      <td>dkrt****19.10.27</td>\n",
       "    </tr>\n",
       "    <tr>\n",
       "      <th>7</th>\n",
       "      <td>16332453</td>\n",
       "      <td>82년생 김지영 너무편향적인 얘기.. 신고</td>\n",
       "      <td>jkh4****19.10.27</td>\n",
       "    </tr>\n",
       "    <tr>\n",
       "      <th>8</th>\n",
       "      <td>16332452</td>\n",
       "      <td>82년생 김지영 너무 편파적이고 재미없어요. 신고</td>\n",
       "      <td>tkrh****19.10.27</td>\n",
       "    </tr>\n",
       "    <tr>\n",
       "      <th>9</th>\n",
       "      <td>16332451</td>\n",
       "      <td>82년생 김지영 논란이 왜 되는건지.. 우리나라 참.. 신고</td>\n",
       "      <td>wjde****19.10.27</td>\n",
       "    </tr>\n",
       "  </tbody>\n",
       "</table>\n",
       "</div>"
      ],
      "text/plain": [
       "         번호                                                감상평  \\\n",
       "0  16332460  82년생 김지영 괜히봤다 현실감 제로 여자가 살기얼마나 편한데 너무 거지같이 꾸며놨...   \n",
       "1  16332459                             로드킬 착하게살라는 교훈말고는... 신고   \n",
       "2  16332458                82년생 김지영 너무 잘봤어요 정유미 배우님 연기 최고에요 신고   \n",
       "3  16332457  82년생 김지영 정말 많이 울었어요. 엄마 생각도 많이 났고, 저의 역할과 위치에 ...   \n",
       "4  16332456  뺑반 조정석 악역 생각 보다 어울리고 류준열 연기 잘하고 액션과 카레이싱신 멋지고 ...   \n",
       "5  16332455          82년생 김지영 주변에 직장동료들 어린이집에 애맡기고 잘만출근하던데? 신고   \n",
       "6  16332454  82년생 김지영 지영이가 여자도 군대를갔어야 이런 이야기가 전개안됐을텐데.... 군...   \n",
       "7  16332453                            82년생 김지영 너무편향적인 얘기.. 신고   \n",
       "8  16332452                        82년생 김지영 너무 편파적이고 재미없어요. 신고   \n",
       "9  16332451                  82년생 김지영 논란이 왜 되는건지.. 우리나라 참.. 신고   \n",
       "\n",
       "             글쓴이·날짜  \n",
       "0  krfr****19.10.27  \n",
       "1  danp****19.10.27  \n",
       "2  wjda****19.10.27  \n",
       "3  yj_9****19.10.27  \n",
       "4  zksp****19.10.27  \n",
       "5  lkgo****19.10.27  \n",
       "6  dkrt****19.10.27  \n",
       "7  jkh4****19.10.27  \n",
       "8  tkrh****19.10.27  \n",
       "9  wjde****19.10.27  "
      ]
     },
     "execution_count": 45,
     "metadata": {},
     "output_type": "execute_result"
    }
   ],
   "source": [
    "navigator=BeautifulSoup(res.text,'html.parser',from_encoding='utf-8')\n",
    "table=navigator.find('table',class_='list_netizen')\n",
    "df_table=pd.read_html(str(table),header=0)\n",
    "df_table[0]"
   ]
  },
  {
   "cell_type": "code",
   "execution_count": 95,
   "metadata": {},
   "outputs": [
    {
     "data": {
      "text/plain": [
       "[{'번호': 16332451, '영화': '82년생 김지영', '감상평': '82년생 김지영'},\n",
       " {'번호': 16332460,\n",
       "  '영화': '82년생 김지영',\n",
       "  '감상평': '괜히봤다 현실감 제로 여자가 살기얼마나 편한데 너무 거지같이 꾸며놨네 '},\n",
       " {'번호': 16332459, '영화': '로드킬', '감상평': '착하게살라는 교훈말고는... '},\n",
       " {'번호': 16332458, '영화': '82년생 김지영', '감상평': '너무 잘봤어요 정유미 배우님 연기 최고에요 '},\n",
       " {'번호': 16332457,\n",
       "  '영화': '82년생 김지영',\n",
       "  '감상평': '정말 많이 울었어요. 엄마 생각도 많이 났고, 저의 역할과 위치에 대해서도 다시 한 번 깊게 생각해보는 계기가 되었습니다. '},\n",
       " {'번호': 16332456,\n",
       "  '영화': '뺑반',\n",
       "  '감상평': '조정석 악역 생각 보다 어울리고 류준열 연기 잘하고 액션과 카레이싱신 멋지고 재미있게 봄 분노의 질주 처럼 우리나라도카레이싱신 많이 생겼으면 좋겠다 '},\n",
       " {'번호': 16332455, '영화': '82년생 김지영', '감상평': '주변에 직장동료들 어린이집에 애맡기고 잘만출근하던데? '},\n",
       " {'번호': 16332454,\n",
       "  '영화': '82년생 김지영',\n",
       "  '감상평': '지영이가 여자도 군대를갔어야 이런 이야기가 전개안됐을텐데.... 군대에서100% 자살해서 이야기끝났을테니까ㅋㅋㅋ 슈퍼한남 공유는 밖에서 가족먹여살리려고 개처럼 일하고 집에선 집안일돕고 병걸린아내 비위맞춰주면서도 우울증안걸리는데 지영이는 백수처럼 쉬면서 명절하루 음식하고 설거지하기, 자기가낳은 애기 하나 키우는거로 우울증+귀신들릴정도로 열등한 한녀임을 보여줌. (현실에서 직장다닐땐 한녀들 누구보다 꿀빨길원하면서 애낳으면 일하고싶어서 금단현상까지오는 개구라판타지는 덤) '},\n",
       " {'번호': 16332453, '영화': '82년생 김지영', '감상평': '너무편향적인 얘기.. '},\n",
       " {'번호': 16332452, '영화': '82년생 김지영', '감상평': '너무 편파적이고 재미없어요. '},\n",
       " {'번호': 16332451, '영화': '82년생 김지영', '감상평': '논란이 왜 되는건지.. 우리나라 참.. '}]"
      ]
     },
     "execution_count": 95,
     "metadata": {},
     "output_type": "execute_result"
    }
   ],
   "source": [
    "import dateutil\n",
    "list_records=[]\n",
    "for i, r in enumerate(table.find_all('tr')):\n",
    "    for j,c in enumerate(r.find_all('td')):\n",
    "        if j==0:\n",
    "            record={\"번호\":int(c.text.strip())}\n",
    "        elif j==1:\n",
    "            record.update({\"영화\":str(c.find('a').text.strip())})\n",
    "            record.update({\"감상평\":str(c.text.strip().split('\\t')[0].split('\\n')[1])})\n",
    "           \n",
    "    try:\n",
    "        list_records.append(record)\n",
    "    except:\n",
    "        pass\n",
    "list_records"
   ]
  },
  {
   "cell_type": "code",
   "execution_count": null,
   "metadata": {},
   "outputs": [],
   "source": []
  },
  {
   "cell_type": "code",
   "execution_count": null,
   "metadata": {},
   "outputs": [],
   "source": []
  }
 ],
 "metadata": {
  "kernelspec": {
   "display_name": "Python 3",
   "language": "python",
   "name": "python3"
  },
  "language_info": {
   "codemirror_mode": {
    "name": "ipython",
    "version": 3
   },
   "file_extension": ".py",
   "mimetype": "text/x-python",
   "name": "python",
   "nbconvert_exporter": "python",
   "pygments_lexer": "ipython3",
   "version": "3.7.3"
  }
 },
 "nbformat": 4,
 "nbformat_minor": 2
}
